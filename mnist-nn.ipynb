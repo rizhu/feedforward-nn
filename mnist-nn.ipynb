{
 "cells": [
  {
   "cell_type": "code",
   "execution_count": 65,
   "metadata": {},
   "outputs": [],
   "source": [
    "import tensorflow as tf\n",
    "import numpy as np"
   ]
  },
  {
   "cell_type": "code",
   "execution_count": 66,
   "metadata": {},
   "outputs": [
    {
     "name": "stdout",
     "output_type": "stream",
     "text": [
      "Number of original training examples: 60000\n",
      "Number of original test examples: 10000\n",
      "(1, 784)\n",
      "5\n"
     ]
    }
   ],
   "source": [
    "(x_train, y_train), (x_test, y_test) = tf.keras.datasets.mnist.load_data()\n",
    "\n",
    "x_train = x_train.reshape(len(x_train), -1) / 255\n",
    "x_test = x_test.reshape(len(x_test), -1) / 255\n",
    "\n",
    "print(\"Number of original training examples:\", len(x_train))\n",
    "print(\"Number of original test examples:\", len(x_test))\n",
    "\n",
    "print(x_train[0].reshape(1, 784).shape)\n",
    "print(y_train[0])"
   ]
  },
  {
   "cell_type": "code",
   "execution_count": 67,
   "metadata": {},
   "outputs": [],
   "source": [
    "tiny_const = 0.005\n",
    "\n",
    "def sigmoid(x):\n",
    "    return 1 / (1 + np.exp(-x))\n",
    "    \n",
    "def sigmoid_d(x):\n",
    "    s = sigmoid(x)\n",
    "    return s * (1 - s)\n",
    "    \n",
    "def relu(x):\n",
    "    return np.maximum(x, 0)\n",
    "\n",
    "def relu_d(x):\n",
    "    return 1 * (x > 0)\n",
    "\n",
    "def J(y, a):\n",
    "    return -np.sum(y * np.log(a + tiny_const) + (1 - y) * np.log(1 - (a + tiny_const)))\n",
    "\n",
    "def J_d(y, a):\n",
    "    return (a - y) / ((1 - a + tiny_const) * (a + tiny_const))"
   ]
  },
  {
   "cell_type": "code",
   "execution_count": 75,
   "metadata": {},
   "outputs": [],
   "source": [
    "def classify(x):\n",
    "    output_layer = sigmoid(W_2 @ relu(W_1 @ x + b_1) + b_2)\n",
    "    digit = np.argmax(output_layer)\n",
    "    return digit, output_layer"
   ]
  },
  {
   "cell_type": "code",
   "execution_count": 76,
   "metadata": {},
   "outputs": [],
   "source": [
    "def train_one_example(num_iterations, learning_rate):\n",
    "    global W_2, b_2, W_1, b_1\n",
    "    \n",
    "    a_0 = x_train[0]\n",
    "    y = np.zeros(10)\n",
    "    y[y_train[0]] = 1\n",
    "    print(y)\n",
    "    \n",
    "    for _ in range(num_iterations):\n",
    "        z_1 = W_1 @ a_0 + b_1\n",
    "        a_1 = relu(z_1)\n",
    "        \n",
    "        z_2 = W_2 @ a_1 + b_2\n",
    "        a_2 = sigmoid(z_2)\n",
    "        \n",
    "        delta_2 = J_d(y, a_2) * sigmoid_d(z_2)\n",
    "        delta_1 = W_2.T @ delta_2 * relu_d(z_1)\n",
    "        \n",
    "        adj_W_2 = delta_2 @ a_2.T\n",
    "        adj_W_1 = delta_1 @ a_1.T\n",
    "        \n",
    "        W_2 = W_2 - learning_rate * adj_W_2\n",
    "        b_2 = b_2 - learning_rate * delta_2\n",
    "        \n",
    "        W_1 = W_1 - learning_rate * adj_W_1\n",
    "        b_1 = b_1 - learning_rate * delta_1"
   ]
  },
  {
   "cell_type": "code",
   "execution_count": 77,
   "metadata": {},
   "outputs": [],
   "source": [
    "W_1 = np.random.rand(300, 784) * 2 - 1\n",
    "b_1 = np.random.rand(300) * 2 - 1\n",
    "\n",
    "W_2 = np.random.rand(10, 300) * 2 - 1\n",
    "b_2 = np.random.rand(10) * 2 - 1"
   ]
  },
  {
   "cell_type": "code",
   "execution_count": 78,
   "metadata": {},
   "outputs": [
    {
     "name": "stdout",
     "output_type": "stream",
     "text": [
      "(1, array([9.99942676e-01, 1.00000000e+00, 9.99985586e-01, 1.00000000e+00,\n",
      "       9.72364251e-10, 1.00000000e+00, 1.00000000e+00, 1.00000000e+00,\n",
      "       8.32545204e-23, 2.23337371e-31]))\n",
      "Desired: 5\n",
      "[0. 0. 0. 0. 0. 1. 0. 0. 0. 0.]\n",
      "(5, array([0.13690762, 0.17824638, 0.19706437, 0.23019584, 0.22316264,\n",
      "       0.86214071, 0.22557013, 0.14352549, 0.14106328, 0.2314917 ]))\n"
     ]
    }
   ],
   "source": [
    "ex1 = classify(x_train[0])\n",
    "print(ex1)\n",
    "print(\"Desired: \" + str(y_train[0]))\n",
    "\n",
    "train_one_example(100000, 0.00005)\n",
    "\n",
    "ex1 = classify(x_train[0])\n",
    "print(ex1)"
   ]
  },
  {
   "cell_type": "code",
   "execution_count": null,
   "metadata": {},
   "outputs": [],
   "source": []
  }
 ],
 "metadata": {
  "kernelspec": {
   "display_name": "Python 3",
   "language": "python",
   "name": "python3"
  },
  "language_info": {
   "codemirror_mode": {
    "name": "ipython",
    "version": 3
   },
   "file_extension": ".py",
   "mimetype": "text/x-python",
   "name": "python",
   "nbconvert_exporter": "python",
   "pygments_lexer": "ipython3",
   "version": "3.7.9"
  }
 },
 "nbformat": 4,
 "nbformat_minor": 4
}

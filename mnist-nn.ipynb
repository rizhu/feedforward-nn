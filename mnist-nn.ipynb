{
 "cells": [
  {
   "cell_type": "code",
   "execution_count": 1,
   "metadata": {},
   "outputs": [
    {
     "name": "stderr",
     "output_type": "stream",
     "text": [
      "/home/huberkeley/.local/lib/python3.6/site-packages/tensorflow/python/framework/dtypes.py:516: FutureWarning: Passing (type, 1) or '1type' as a synonym of type is deprecated; in a future version of numpy, it will be understood as (type, (1,)) / '(1,)type'.\n",
      "  _np_qint8 = np.dtype([(\"qint8\", np.int8, 1)])\n",
      "/home/huberkeley/.local/lib/python3.6/site-packages/tensorflow/python/framework/dtypes.py:517: FutureWarning: Passing (type, 1) or '1type' as a synonym of type is deprecated; in a future version of numpy, it will be understood as (type, (1,)) / '(1,)type'.\n",
      "  _np_quint8 = np.dtype([(\"quint8\", np.uint8, 1)])\n",
      "/home/huberkeley/.local/lib/python3.6/site-packages/tensorflow/python/framework/dtypes.py:518: FutureWarning: Passing (type, 1) or '1type' as a synonym of type is deprecated; in a future version of numpy, it will be understood as (type, (1,)) / '(1,)type'.\n",
      "  _np_qint16 = np.dtype([(\"qint16\", np.int16, 1)])\n",
      "/home/huberkeley/.local/lib/python3.6/site-packages/tensorflow/python/framework/dtypes.py:519: FutureWarning: Passing (type, 1) or '1type' as a synonym of type is deprecated; in a future version of numpy, it will be understood as (type, (1,)) / '(1,)type'.\n",
      "  _np_quint16 = np.dtype([(\"quint16\", np.uint16, 1)])\n",
      "/home/huberkeley/.local/lib/python3.6/site-packages/tensorflow/python/framework/dtypes.py:520: FutureWarning: Passing (type, 1) or '1type' as a synonym of type is deprecated; in a future version of numpy, it will be understood as (type, (1,)) / '(1,)type'.\n",
      "  _np_qint32 = np.dtype([(\"qint32\", np.int32, 1)])\n",
      "/home/huberkeley/.local/lib/python3.6/site-packages/tensorflow/python/framework/dtypes.py:525: FutureWarning: Passing (type, 1) or '1type' as a synonym of type is deprecated; in a future version of numpy, it will be understood as (type, (1,)) / '(1,)type'.\n",
      "  np_resource = np.dtype([(\"resource\", np.ubyte, 1)])\n",
      "/home/huberkeley/.local/lib/python3.6/site-packages/tensorboard/compat/tensorflow_stub/dtypes.py:541: FutureWarning: Passing (type, 1) or '1type' as a synonym of type is deprecated; in a future version of numpy, it will be understood as (type, (1,)) / '(1,)type'.\n",
      "  _np_qint8 = np.dtype([(\"qint8\", np.int8, 1)])\n",
      "/home/huberkeley/.local/lib/python3.6/site-packages/tensorboard/compat/tensorflow_stub/dtypes.py:542: FutureWarning: Passing (type, 1) or '1type' as a synonym of type is deprecated; in a future version of numpy, it will be understood as (type, (1,)) / '(1,)type'.\n",
      "  _np_quint8 = np.dtype([(\"quint8\", np.uint8, 1)])\n",
      "/home/huberkeley/.local/lib/python3.6/site-packages/tensorboard/compat/tensorflow_stub/dtypes.py:543: FutureWarning: Passing (type, 1) or '1type' as a synonym of type is deprecated; in a future version of numpy, it will be understood as (type, (1,)) / '(1,)type'.\n",
      "  _np_qint16 = np.dtype([(\"qint16\", np.int16, 1)])\n",
      "/home/huberkeley/.local/lib/python3.6/site-packages/tensorboard/compat/tensorflow_stub/dtypes.py:544: FutureWarning: Passing (type, 1) or '1type' as a synonym of type is deprecated; in a future version of numpy, it will be understood as (type, (1,)) / '(1,)type'.\n",
      "  _np_quint16 = np.dtype([(\"quint16\", np.uint16, 1)])\n",
      "/home/huberkeley/.local/lib/python3.6/site-packages/tensorboard/compat/tensorflow_stub/dtypes.py:545: FutureWarning: Passing (type, 1) or '1type' as a synonym of type is deprecated; in a future version of numpy, it will be understood as (type, (1,)) / '(1,)type'.\n",
      "  _np_qint32 = np.dtype([(\"qint32\", np.int32, 1)])\n",
      "/home/huberkeley/.local/lib/python3.6/site-packages/tensorboard/compat/tensorflow_stub/dtypes.py:550: FutureWarning: Passing (type, 1) or '1type' as a synonym of type is deprecated; in a future version of numpy, it will be understood as (type, (1,)) / '(1,)type'.\n",
      "  np_resource = np.dtype([(\"resource\", np.ubyte, 1)])\n"
     ]
    }
   ],
   "source": [
    "import tensorflow as tf\n",
    "import numpy as np"
   ]
  },
  {
   "cell_type": "code",
   "execution_count": 2,
   "metadata": {},
   "outputs": [
    {
     "name": "stdout",
     "output_type": "stream",
     "text": [
      "Number of original training examples: 45000\n",
      "Number of original test examples: 10000\n",
      "(1, 784)\n",
      "5\n"
     ]
    }
   ],
   "source": [
    "(x_train, y_train), (x_test, y_test) = tf.keras.datasets.mnist.load_data()\n",
    "\n",
    "x_train = x_train.reshape(len(x_train), -1) / 255\n",
    "x_test = x_test.reshape(len(x_test), -1) / 255\n",
    "\n",
    "x_train, x_cross = x_train[:45000], x_train[45000:]\n",
    "y_train, y_cross = y_train[:45000], y_train[45000:]\n",
    "\n",
    "print(\"Number of original training examples:\", len(x_train))\n",
    "print(\"Number of original test examples:\", len(x_test))\n",
    "\n",
    "print(x_train[0].reshape(1, 784).shape)\n",
    "print(y_train[0])"
   ]
  },
  {
   "cell_type": "code",
   "execution_count": 3,
   "metadata": {},
   "outputs": [],
   "source": [
    "tiny_const = 0.005\n",
    "\n",
    "def sigmoid(x):\n",
    "    return 1 / (1 + np.exp(-x))\n",
    "    \n",
    "def sigmoid_d(x):\n",
    "    s = sigmoid(x)\n",
    "    return s * (1 - s)\n",
    "    \n",
    "def relu(x):\n",
    "    return np.maximum(x, 0)\n",
    "\n",
    "def relu_d(x):\n",
    "    return 1 * (x > 0)\n",
    "\n",
    "def J(y, a):\n",
    "    return -np.sum(y * np.log(a + tiny_const) + (1 - y) * np.log(1 - (a + tiny_const)))\n",
    "\n",
    "def J_d(y, a):\n",
    "    return (a - y) / ((1 - a + tiny_const) * (a + tiny_const))"
   ]
  },
  {
   "cell_type": "code",
   "execution_count": 4,
   "metadata": {},
   "outputs": [],
   "source": [
    "def classify(x):\n",
    "    output_layer = sigmoid(W_2 @ relu(W_1 @ x + b_1) + b_2)\n",
    "    digit = np.argmax(output_layer)\n",
    "    return digit, output_layer"
   ]
  },
  {
   "cell_type": "code",
   "execution_count": 11,
   "metadata": {},
   "outputs": [],
   "source": [
    "def train_one_example(num_iterations, learning_rate):\n",
    "    global W_2, b_2, W_1, b_1\n",
    "    \n",
    "    a_0 = x_train[0]\n",
    "    y = np.zeros(10)\n",
    "    y[y_train[0]] = 1\n",
    "    print(y)\n",
    "    \n",
    "    for _ in range(num_iterations):\n",
    "        z_1 = W_1 @ a_0 + b_1\n",
    "        a_1 = relu(z_1)\n",
    "        \n",
    "        z_2 = W_2 @ a_1 + b_2\n",
    "        a_2 = sigmoid(z_2)\n",
    "        \n",
    "        delta_2 = J_d(y, a_2) * sigmoid_d(z_2)\n",
    "        delta_1 = W_2.T @ delta_2 * relu_d(z_1)\n",
    "        \n",
    "        adj_W_2 = delta_2 @ a_2.T\n",
    "        adj_W_1 = delta_1 @ a_1.T\n",
    "        \n",
    "        W_2 = W_2 - learning_rate * adj_W_2\n",
    "        b_2 = b_2 - learning_rate * delta_2\n",
    "        \n",
    "        W_1 = W_1 - learning_rate * adj_W_1\n",
    "        b_1 = b_1 - learning_rate * delta_1"
   ]
  },
  {
   "cell_type": "code",
   "execution_count": 28,
   "metadata": {},
   "outputs": [],
   "source": [
    "W_1 = np.random.rand(300, 784) + tiny_const\n",
    "b_1 = np.random.rand(300) + tiny_const\n",
    "\n",
    "W_2 = np.random.rand(10, 300) + tiny_const\n",
    "b_2 = np.random.rand(10) + tiny_const"
   ]
  },
  {
   "cell_type": "code",
   "execution_count": 29,
   "metadata": {},
   "outputs": [
    {
     "name": "stdout",
     "output_type": "stream",
     "text": [
      "(0, array([1., 1., 1., 1., 1., 1., 1., 1., 1., 1.]))\n",
      "Desired: 5\n",
      "[0. 0. 0. 0. 0. 1. 0. 0. 0. 0.]\n",
      "(0, array([1., 1., 1., 1., 1., 1., 1., 1., 1., 1.]))\n"
     ]
    }
   ],
   "source": [
    "ex1 = classify(x_train[0])\n",
    "print(ex1)\n",
    "print(\"Desired: \" + str(y_train[0]))\n",
    "\n",
    "train_one_example(100000, 0.00005)\n",
    "\n",
    "ex1 = classify(x_train[0])\n",
    "print(ex1)"
   ]
  },
  {
   "cell_type": "code",
   "execution_count": 8,
   "metadata": {},
   "outputs": [],
   "source": [
    "def train(num_iterations, learning_rate):\n",
    "    global W_2, b_2, W_1, b_1\n",
    "    \n",
    "    for i in range(num_iterations):\n",
    "        for j in range(45000):\n",
    "            a_0 = x_train[j]\n",
    "            y = np.zeros(10)\n",
    "            y[y_train[j]] = 1\n",
    "            \n",
    "            z_1 = W_1 @ a_0 + b_1\n",
    "            a_1 = relu(z_1)\n",
    "\n",
    "            z_2 = W_2 @ a_1 + b_2\n",
    "            a_2 = sigmoid(z_2)\n",
    "\n",
    "            delta_2 = J_d(y, a_2) * sigmoid_d(z_2)\n",
    "            delta_1 = W_2.T @ delta_2 * relu_d(z_1)\n",
    "\n",
    "            adj_W_2 = delta_2 @ a_2.T\n",
    "            adj_W_1 = delta_1 @ a_1.T\n",
    "\n",
    "            W_2 = W_2 - learning_rate * adj_W_2\n",
    "            b_2 = b_2 - learning_rate * delta_2\n",
    "\n",
    "            W_1 = W_1 - learning_rate * adj_W_1\n",
    "            b_1 = b_1 - learning_rate * delta_1\n",
    "        \n",
    "        print(\"Finished iteration \" + )"
   ]
  },
  {
   "cell_type": "code",
   "execution_count": 9,
   "metadata": {},
   "outputs": [],
   "source": [
    "W_1 = np.random.rand(300, 784) * 2 - 1\n",
    "b_1 = np.random.rand(300) * 2 - 1\n",
    "\n",
    "W_2 = np.random.rand(10, 300) * 2 - 1\n",
    "b_2 = np.random.rand(10) * 2 - 1"
   ]
  },
  {
   "cell_type": "code",
   "execution_count": 10,
   "metadata": {},
   "outputs": [
    {
     "ename": "KeyboardInterrupt",
     "evalue": "",
     "output_type": "error",
     "traceback": [
      "\u001b[0;31m---------------------------------------------------------------------------\u001b[0m",
      "\u001b[0;31mKeyboardInterrupt\u001b[0m                         Traceback (most recent call last)",
      "\u001b[0;32m<ipython-input-10-46d476cb0ed6>\u001b[0m in \u001b[0;36m<module>\u001b[0;34m\u001b[0m\n\u001b[0;32m----> 1\u001b[0;31m \u001b[0mtrain\u001b[0m\u001b[0;34m(\u001b[0m\u001b[0;36m100000\u001b[0m\u001b[0;34m,\u001b[0m \u001b[0;36m0.00005\u001b[0m\u001b[0;34m)\u001b[0m\u001b[0;34m\u001b[0m\u001b[0;34m\u001b[0m\u001b[0m\n\u001b[0m",
      "\u001b[0;32m<ipython-input-8-ba48f065d224>\u001b[0m in \u001b[0;36mtrain\u001b[0;34m(num_iterations, learning_rate)\u001b[0m\n\u001b[1;32m     15\u001b[0m \u001b[0;34m\u001b[0m\u001b[0m\n\u001b[1;32m     16\u001b[0m             \u001b[0mdelta_2\u001b[0m \u001b[0;34m=\u001b[0m \u001b[0mJ_d\u001b[0m\u001b[0;34m(\u001b[0m\u001b[0my\u001b[0m\u001b[0;34m,\u001b[0m \u001b[0ma_2\u001b[0m\u001b[0;34m)\u001b[0m \u001b[0;34m*\u001b[0m \u001b[0msigmoid_d\u001b[0m\u001b[0;34m(\u001b[0m\u001b[0mz_2\u001b[0m\u001b[0;34m)\u001b[0m\u001b[0;34m\u001b[0m\u001b[0;34m\u001b[0m\u001b[0m\n\u001b[0;32m---> 17\u001b[0;31m             \u001b[0mdelta_1\u001b[0m \u001b[0;34m=\u001b[0m \u001b[0mW_2\u001b[0m\u001b[0;34m.\u001b[0m\u001b[0mT\u001b[0m \u001b[0;34m@\u001b[0m \u001b[0mdelta_2\u001b[0m \u001b[0;34m*\u001b[0m \u001b[0mrelu_d\u001b[0m\u001b[0;34m(\u001b[0m\u001b[0mz_1\u001b[0m\u001b[0;34m)\u001b[0m\u001b[0;34m\u001b[0m\u001b[0;34m\u001b[0m\u001b[0m\n\u001b[0m\u001b[1;32m     18\u001b[0m \u001b[0;34m\u001b[0m\u001b[0m\n\u001b[1;32m     19\u001b[0m             \u001b[0madj_W_2\u001b[0m \u001b[0;34m=\u001b[0m \u001b[0mdelta_2\u001b[0m \u001b[0;34m@\u001b[0m \u001b[0ma_2\u001b[0m\u001b[0;34m.\u001b[0m\u001b[0mT\u001b[0m\u001b[0;34m\u001b[0m\u001b[0;34m\u001b[0m\u001b[0m\n",
      "\u001b[0;31mKeyboardInterrupt\u001b[0m: "
     ]
    }
   ],
   "source": [
    "train(100000, 0.00005)"
   ]
  },
  {
   "cell_type": "code",
   "execution_count": 27,
   "metadata": {},
   "outputs": [
    {
     "name": "stdout",
     "output_type": "stream",
     "text": [
      "Correctly classified: 1240\n"
     ]
    }
   ],
   "source": [
    "count = 0\n",
    "\n",
    "for i in range(15000):\n",
    "    dig = classify(x_cross[i])[0]\n",
    "    if dig == y_cross[i]:\n",
    "        count += 1\n",
    "\n",
    "print(\"Correctly classified: \" + str(count))\n",
    "print(\"Accuracy: \" + str(count / 15000))"
   ]
  },
  {
   "cell_type": "code",
   "execution_count": null,
   "metadata": {},
   "outputs": [],
   "source": []
  }
 ],
 "metadata": {
  "kernelspec": {
   "display_name": "Python (how2)",
   "language": "python",
   "name": "how2"
  },
  "language_info": {
   "codemirror_mode": {
    "name": "ipython",
    "version": 3
   },
   "file_extension": ".py",
   "mimetype": "text/x-python",
   "name": "python",
   "nbconvert_exporter": "python",
   "pygments_lexer": "ipython3",
   "version": "3.6.12"
  }
 },
 "nbformat": 4,
 "nbformat_minor": 4
}
